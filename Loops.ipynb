{
 "cells": [
  {
   "cell_type": "markdown",
   "id": "6e9eaef7-b1da-41bb-a320-aca5aaddbfe0",
   "metadata": {},
   "source": [
    "### Loops\n",
    "\n",
    "#### Loop definition (for-loop)"
   ]
  },
  {
   "cell_type": "code",
   "execution_count": 1,
   "id": "cc8c007d-40f2-4df9-9028-792ce07e1c2f",
   "metadata": {},
   "outputs": [
    {
     "name": "stdout",
     "output_type": "stream",
     "text": [
      "10\n",
      "11\n",
      "12\n",
      "20\n"
     ]
    }
   ],
   "source": [
    "ages=[10,11,12,20]\n",
    "\n",
    "for age in ages:\n",
    "    print(age)\n"
   ]
  },
  {
   "cell_type": "code",
   "execution_count": null,
   "id": "43d5f328-325e-4b15-9343-6b96ba43d15c",
   "metadata": {},
   "outputs": [],
   "source": [
    "for age in ages:\n",
    "    if age>15:\n",
    "        print(age)"
   ]
  },
  {
   "cell_type": "code",
   "execution_count": 5,
   "id": "e2f91169-7ae6-4938-bc06-484b0492fdc4",
   "metadata": {},
   "outputs": [
    {
     "name": "stdout",
     "output_type": "stream",
     "text": [
      "I found danny\n"
     ]
    }
   ],
   "source": [
    "names=[\"danny\", \"david\", \"moshe\"]\n",
    "for name in names:\n",
    "    if name==\"danny\":\n",
    "        print(\"I found danny\")\n"
   ]
  },
  {
   "cell_type": "code",
   "execution_count": 7,
   "id": "4df90230-e4b7-4ebf-94ac-531ee1c2ceb8",
   "metadata": {},
   "outputs": [
    {
     "name": "stdout",
     "output_type": "stream",
     "text": [
      "Price plus VAT: 140.39999999999998\n",
      "Price plus VAT: 390.78\n",
      "Price plus VAT: 234.0\n",
      "Price plus VAT: 128.7\n",
      "Price plus VAT: 585.0\n"
     ]
    }
   ],
   "source": [
    "prices=[120, 334, 200, 110, 500]\n",
    "for price in prices:\n",
    "    print(\"Price plus VAT:\", price*1.17)"
   ]
  }
 ],
 "metadata": {
  "kernelspec": {
   "display_name": "Python 3 (ipykernel)",
   "language": "python",
   "name": "python3"
  },
  "language_info": {
   "codemirror_mode": {
    "name": "ipython",
    "version": 3
   },
   "file_extension": ".py",
   "mimetype": "text/x-python",
   "name": "python",
   "nbconvert_exporter": "python",
   "pygments_lexer": "ipython3",
   "version": "3.10.7"
  }
 },
 "nbformat": 4,
 "nbformat_minor": 5
}
